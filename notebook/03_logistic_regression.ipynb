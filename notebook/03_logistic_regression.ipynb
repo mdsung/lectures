{
 "cells": [
  {
   "cell_type": "code",
   "execution_count": 1,
   "metadata": {},
   "outputs": [],
   "source": [
    "import pandas as pd"
   ]
  },
  {
   "cell_type": "code",
   "execution_count": 6,
   "metadata": {},
   "outputs": [],
   "source": [
    "data = pd.read_pickle('../data/processed/data.pkl')\n",
    "X = data.iloc[:, 1:-3]\n",
    "y = data.iloc[:,-3]"
   ]
  },
  {
   "cell_type": "code",
   "execution_count": 16,
   "metadata": {},
   "outputs": [
    {
     "ename": "AttributeError",
     "evalue": "'Series' object has no attribute 'reshape'",
     "output_type": "error",
     "traceback": [
      "\u001b[0;31m---------------------------------------------------------------------------\u001b[0m",
      "\u001b[0;31mAttributeError\u001b[0m                            Traceback (most recent call last)",
      "\u001b[1;32m/Users/mindongsung/Work/20220329_python_lecture/notebook/03_logistic_regression.ipynb Cell 3'\u001b[0m in \u001b[0;36m<cell line: 3>\u001b[0;34m()\u001b[0m\n\u001b[1;32m      <a href='vscode-notebook-cell:/Users/mindongsung/Work/20220329_python_lecture/notebook/03_logistic_regression.ipynb#ch0000006?line=0'>1</a>\u001b[0m \u001b[39m# univariate logistic regression\u001b[39;00m\n\u001b[1;32m      <a href='vscode-notebook-cell:/Users/mindongsung/Work/20220329_python_lecture/notebook/03_logistic_regression.ipynb#ch0000006?line=1'>2</a>\u001b[0m \u001b[39mfrom\u001b[39;00m \u001b[39msklearn\u001b[39;00m\u001b[39m.\u001b[39;00m\u001b[39mlinear_model\u001b[39;00m \u001b[39mimport\u001b[39;00m LogisticRegression\n\u001b[0;32m----> <a href='vscode-notebook-cell:/Users/mindongsung/Work/20220329_python_lecture/notebook/03_logistic_regression.ipynb#ch0000006?line=2'>3</a>\u001b[0m model \u001b[39m=\u001b[39m LogisticRegression(random_state\u001b[39m=\u001b[39m\u001b[39m0\u001b[39m)\u001b[39m.\u001b[39mfit(X\u001b[39m.\u001b[39;49miloc[:,\u001b[39m0\u001b[39;49m]\u001b[39m.\u001b[39;49mreshape(\u001b[39m-\u001b[39m\u001b[39m1\u001b[39m, \u001b[39m1\u001b[39m), y)\n",
      "File \u001b[0;32m~/Work/20220329_python_lecture/.venv/lib/python3.9/site-packages/pandas/core/generic.py:5487\u001b[0m, in \u001b[0;36mNDFrame.__getattr__\u001b[0;34m(self, name)\u001b[0m\n\u001b[1;32m   <a href='file:///Users/mindongsung/Work/20220329_python_lecture/.venv/lib/python3.9/site-packages/pandas/core/generic.py?line=5479'>5480</a>\u001b[0m \u001b[39mif\u001b[39;00m (\n\u001b[1;32m   <a href='file:///Users/mindongsung/Work/20220329_python_lecture/.venv/lib/python3.9/site-packages/pandas/core/generic.py?line=5480'>5481</a>\u001b[0m     name \u001b[39mnot\u001b[39;00m \u001b[39min\u001b[39;00m \u001b[39mself\u001b[39m\u001b[39m.\u001b[39m_internal_names_set\n\u001b[1;32m   <a href='file:///Users/mindongsung/Work/20220329_python_lecture/.venv/lib/python3.9/site-packages/pandas/core/generic.py?line=5481'>5482</a>\u001b[0m     \u001b[39mand\u001b[39;00m name \u001b[39mnot\u001b[39;00m \u001b[39min\u001b[39;00m \u001b[39mself\u001b[39m\u001b[39m.\u001b[39m_metadata\n\u001b[1;32m   <a href='file:///Users/mindongsung/Work/20220329_python_lecture/.venv/lib/python3.9/site-packages/pandas/core/generic.py?line=5482'>5483</a>\u001b[0m     \u001b[39mand\u001b[39;00m name \u001b[39mnot\u001b[39;00m \u001b[39min\u001b[39;00m \u001b[39mself\u001b[39m\u001b[39m.\u001b[39m_accessors\n\u001b[1;32m   <a href='file:///Users/mindongsung/Work/20220329_python_lecture/.venv/lib/python3.9/site-packages/pandas/core/generic.py?line=5483'>5484</a>\u001b[0m     \u001b[39mand\u001b[39;00m \u001b[39mself\u001b[39m\u001b[39m.\u001b[39m_info_axis\u001b[39m.\u001b[39m_can_hold_identifiers_and_holds_name(name)\n\u001b[1;32m   <a href='file:///Users/mindongsung/Work/20220329_python_lecture/.venv/lib/python3.9/site-packages/pandas/core/generic.py?line=5484'>5485</a>\u001b[0m ):\n\u001b[1;32m   <a href='file:///Users/mindongsung/Work/20220329_python_lecture/.venv/lib/python3.9/site-packages/pandas/core/generic.py?line=5485'>5486</a>\u001b[0m     \u001b[39mreturn\u001b[39;00m \u001b[39mself\u001b[39m[name]\n\u001b[0;32m-> <a href='file:///Users/mindongsung/Work/20220329_python_lecture/.venv/lib/python3.9/site-packages/pandas/core/generic.py?line=5486'>5487</a>\u001b[0m \u001b[39mreturn\u001b[39;00m \u001b[39mobject\u001b[39;49m\u001b[39m.\u001b[39;49m\u001b[39m__getattribute__\u001b[39;49m(\u001b[39mself\u001b[39;49m, name)\n",
      "\u001b[0;31mAttributeError\u001b[0m: 'Series' object has no attribute 'reshape'"
     ]
    }
   ],
   "source": [
    "# univariate logistic regression\n",
    "from sklearn.linear_model import LogisticRegression\n",
    "model = LogisticRegression(random_state=0).fit(X.iloc[:,0].reshape(-1, 1), y)\n",
    "    "
   ]
  },
  {
   "cell_type": "code",
   "execution_count": 11,
   "metadata": {},
   "outputs": [
    {
     "ename": "ValueError",
     "evalue": "Pandas data cast to numpy dtype of object. Check input data with np.asarray(data).",
     "output_type": "error",
     "traceback": [
      "\u001b[0;31m---------------------------------------------------------------------------\u001b[0m",
      "\u001b[0;31mValueError\u001b[0m                                Traceback (most recent call last)",
      "\u001b[1;32m/Users/mindongsung/Work/20220329_python_lecture/notebook/03_logistic_regression.ipynb Cell 3'\u001b[0m in \u001b[0;36m<cell line: 3>\u001b[0;34m()\u001b[0m\n\u001b[1;32m      <a href='vscode-notebook-cell:/Users/mindongsung/Work/20220329_python_lecture/notebook/03_logistic_regression.ipynb#ch0000003?line=0'>1</a>\u001b[0m \u001b[39mimport\u001b[39;00m \u001b[39mstatsmodels\u001b[39;00m\u001b[39m.\u001b[39;00m\u001b[39mapi\u001b[39;00m \u001b[39mas\u001b[39;00m \u001b[39msm\u001b[39;00m\n\u001b[1;32m      <a href='vscode-notebook-cell:/Users/mindongsung/Work/20220329_python_lecture/notebook/03_logistic_regression.ipynb#ch0000003?line=1'>2</a>\u001b[0m X \u001b[39m=\u001b[39m sm\u001b[39m.\u001b[39madd_constant(X)\n\u001b[0;32m----> <a href='vscode-notebook-cell:/Users/mindongsung/Work/20220329_python_lecture/notebook/03_logistic_regression.ipynb#ch0000003?line=2'>3</a>\u001b[0m model \u001b[39m=\u001b[39m sm\u001b[39m.\u001b[39;49mLogit(y,X)\n\u001b[1;32m      <a href='vscode-notebook-cell:/Users/mindongsung/Work/20220329_python_lecture/notebook/03_logistic_regression.ipynb#ch0000003?line=3'>4</a>\u001b[0m results \u001b[39m=\u001b[39m model\u001b[39m.\u001b[39mfit()\n\u001b[1;32m      <a href='vscode-notebook-cell:/Users/mindongsung/Work/20220329_python_lecture/notebook/03_logistic_regression.ipynb#ch0000003?line=5'>6</a>\u001b[0m \u001b[39mprint\u001b[39m( results\u001b[39m.\u001b[39msummary() )\n",
      "File \u001b[0;32m~/Work/20220329_python_lecture/.venv/lib/python3.9/site-packages/statsmodels/discrete/discrete_model.py:462\u001b[0m, in \u001b[0;36mBinaryModel.__init__\u001b[0;34m(self, endog, exog, check_rank, **kwargs)\u001b[0m\n\u001b[1;32m    <a href='file:///Users/mindongsung/Work/20220329_python_lecture/.venv/lib/python3.9/site-packages/statsmodels/discrete/discrete_model.py?line=458'>459</a>\u001b[0m \u001b[39mdef\u001b[39;00m \u001b[39m__init__\u001b[39m(\u001b[39mself\u001b[39m, endog, exog, check_rank\u001b[39m=\u001b[39m\u001b[39mTrue\u001b[39;00m, \u001b[39m*\u001b[39m\u001b[39m*\u001b[39mkwargs):\n\u001b[1;32m    <a href='file:///Users/mindongsung/Work/20220329_python_lecture/.venv/lib/python3.9/site-packages/statsmodels/discrete/discrete_model.py?line=459'>460</a>\u001b[0m     \u001b[39m# unconditional check, requires no extra kwargs added by subclasses\u001b[39;00m\n\u001b[1;32m    <a href='file:///Users/mindongsung/Work/20220329_python_lecture/.venv/lib/python3.9/site-packages/statsmodels/discrete/discrete_model.py?line=460'>461</a>\u001b[0m     \u001b[39mself\u001b[39m\u001b[39m.\u001b[39m_check_kwargs(kwargs)\n\u001b[0;32m--> <a href='file:///Users/mindongsung/Work/20220329_python_lecture/.venv/lib/python3.9/site-packages/statsmodels/discrete/discrete_model.py?line=461'>462</a>\u001b[0m     \u001b[39msuper\u001b[39;49m()\u001b[39m.\u001b[39;49m\u001b[39m__init__\u001b[39;49m(endog, exog, check_rank, \u001b[39m*\u001b[39;49m\u001b[39m*\u001b[39;49mkwargs)\n\u001b[1;32m    <a href='file:///Users/mindongsung/Work/20220329_python_lecture/.venv/lib/python3.9/site-packages/statsmodels/discrete/discrete_model.py?line=462'>463</a>\u001b[0m     \u001b[39mif\u001b[39;00m \u001b[39mnot\u001b[39;00m \u001b[39missubclass\u001b[39m(\u001b[39mself\u001b[39m\u001b[39m.\u001b[39m\u001b[39m__class__\u001b[39m, MultinomialModel):\n\u001b[1;32m    <a href='file:///Users/mindongsung/Work/20220329_python_lecture/.venv/lib/python3.9/site-packages/statsmodels/discrete/discrete_model.py?line=463'>464</a>\u001b[0m         \u001b[39mif\u001b[39;00m \u001b[39mnot\u001b[39;00m np\u001b[39m.\u001b[39mall((\u001b[39mself\u001b[39m\u001b[39m.\u001b[39mendog \u001b[39m>\u001b[39m\u001b[39m=\u001b[39m \u001b[39m0\u001b[39m) \u001b[39m&\u001b[39m (\u001b[39mself\u001b[39m\u001b[39m.\u001b[39mendog \u001b[39m<\u001b[39m\u001b[39m=\u001b[39m \u001b[39m1\u001b[39m)):\n",
      "File \u001b[0;32m~/Work/20220329_python_lecture/.venv/lib/python3.9/site-packages/statsmodels/discrete/discrete_model.py:178\u001b[0m, in \u001b[0;36mDiscreteModel.__init__\u001b[0;34m(self, endog, exog, check_rank, **kwargs)\u001b[0m\n\u001b[1;32m    <a href='file:///Users/mindongsung/Work/20220329_python_lecture/.venv/lib/python3.9/site-packages/statsmodels/discrete/discrete_model.py?line=175'>176</a>\u001b[0m \u001b[39mdef\u001b[39;00m \u001b[39m__init__\u001b[39m(\u001b[39mself\u001b[39m, endog, exog, check_rank\u001b[39m=\u001b[39m\u001b[39mTrue\u001b[39;00m, \u001b[39m*\u001b[39m\u001b[39m*\u001b[39mkwargs):\n\u001b[1;32m    <a href='file:///Users/mindongsung/Work/20220329_python_lecture/.venv/lib/python3.9/site-packages/statsmodels/discrete/discrete_model.py?line=176'>177</a>\u001b[0m     \u001b[39mself\u001b[39m\u001b[39m.\u001b[39m_check_rank \u001b[39m=\u001b[39m check_rank\n\u001b[0;32m--> <a href='file:///Users/mindongsung/Work/20220329_python_lecture/.venv/lib/python3.9/site-packages/statsmodels/discrete/discrete_model.py?line=177'>178</a>\u001b[0m     \u001b[39msuper\u001b[39;49m()\u001b[39m.\u001b[39;49m\u001b[39m__init__\u001b[39;49m(endog, exog, \u001b[39m*\u001b[39;49m\u001b[39m*\u001b[39;49mkwargs)\n\u001b[1;32m    <a href='file:///Users/mindongsung/Work/20220329_python_lecture/.venv/lib/python3.9/site-packages/statsmodels/discrete/discrete_model.py?line=178'>179</a>\u001b[0m     \u001b[39mself\u001b[39m\u001b[39m.\u001b[39mraise_on_perfect_prediction \u001b[39m=\u001b[39m \u001b[39mTrue\u001b[39;00m\n",
      "File \u001b[0;32m~/Work/20220329_python_lecture/.venv/lib/python3.9/site-packages/statsmodels/base/model.py:267\u001b[0m, in \u001b[0;36mLikelihoodModel.__init__\u001b[0;34m(self, endog, exog, **kwargs)\u001b[0m\n\u001b[1;32m    <a href='file:///Users/mindongsung/Work/20220329_python_lecture/.venv/lib/python3.9/site-packages/statsmodels/base/model.py?line=265'>266</a>\u001b[0m \u001b[39mdef\u001b[39;00m \u001b[39m__init__\u001b[39m(\u001b[39mself\u001b[39m, endog, exog\u001b[39m=\u001b[39m\u001b[39mNone\u001b[39;00m, \u001b[39m*\u001b[39m\u001b[39m*\u001b[39mkwargs):\n\u001b[0;32m--> <a href='file:///Users/mindongsung/Work/20220329_python_lecture/.venv/lib/python3.9/site-packages/statsmodels/base/model.py?line=266'>267</a>\u001b[0m     \u001b[39msuper\u001b[39;49m()\u001b[39m.\u001b[39;49m\u001b[39m__init__\u001b[39;49m(endog, exog, \u001b[39m*\u001b[39;49m\u001b[39m*\u001b[39;49mkwargs)\n\u001b[1;32m    <a href='file:///Users/mindongsung/Work/20220329_python_lecture/.venv/lib/python3.9/site-packages/statsmodels/base/model.py?line=267'>268</a>\u001b[0m     \u001b[39mself\u001b[39m\u001b[39m.\u001b[39minitialize()\n",
      "File \u001b[0;32m~/Work/20220329_python_lecture/.venv/lib/python3.9/site-packages/statsmodels/base/model.py:92\u001b[0m, in \u001b[0;36mModel.__init__\u001b[0;34m(self, endog, exog, **kwargs)\u001b[0m\n\u001b[1;32m     <a href='file:///Users/mindongsung/Work/20220329_python_lecture/.venv/lib/python3.9/site-packages/statsmodels/base/model.py?line=89'>90</a>\u001b[0m missing \u001b[39m=\u001b[39m kwargs\u001b[39m.\u001b[39mpop(\u001b[39m'\u001b[39m\u001b[39mmissing\u001b[39m\u001b[39m'\u001b[39m, \u001b[39m'\u001b[39m\u001b[39mnone\u001b[39m\u001b[39m'\u001b[39m)\n\u001b[1;32m     <a href='file:///Users/mindongsung/Work/20220329_python_lecture/.venv/lib/python3.9/site-packages/statsmodels/base/model.py?line=90'>91</a>\u001b[0m hasconst \u001b[39m=\u001b[39m kwargs\u001b[39m.\u001b[39mpop(\u001b[39m'\u001b[39m\u001b[39mhasconst\u001b[39m\u001b[39m'\u001b[39m, \u001b[39mNone\u001b[39;00m)\n\u001b[0;32m---> <a href='file:///Users/mindongsung/Work/20220329_python_lecture/.venv/lib/python3.9/site-packages/statsmodels/base/model.py?line=91'>92</a>\u001b[0m \u001b[39mself\u001b[39m\u001b[39m.\u001b[39mdata \u001b[39m=\u001b[39m \u001b[39mself\u001b[39;49m\u001b[39m.\u001b[39;49m_handle_data(endog, exog, missing, hasconst,\n\u001b[1;32m     <a href='file:///Users/mindongsung/Work/20220329_python_lecture/.venv/lib/python3.9/site-packages/statsmodels/base/model.py?line=92'>93</a>\u001b[0m                               \u001b[39m*\u001b[39;49m\u001b[39m*\u001b[39;49mkwargs)\n\u001b[1;32m     <a href='file:///Users/mindongsung/Work/20220329_python_lecture/.venv/lib/python3.9/site-packages/statsmodels/base/model.py?line=93'>94</a>\u001b[0m \u001b[39mself\u001b[39m\u001b[39m.\u001b[39mk_constant \u001b[39m=\u001b[39m \u001b[39mself\u001b[39m\u001b[39m.\u001b[39mdata\u001b[39m.\u001b[39mk_constant\n\u001b[1;32m     <a href='file:///Users/mindongsung/Work/20220329_python_lecture/.venv/lib/python3.9/site-packages/statsmodels/base/model.py?line=94'>95</a>\u001b[0m \u001b[39mself\u001b[39m\u001b[39m.\u001b[39mexog \u001b[39m=\u001b[39m \u001b[39mself\u001b[39m\u001b[39m.\u001b[39mdata\u001b[39m.\u001b[39mexog\n",
      "File \u001b[0;32m~/Work/20220329_python_lecture/.venv/lib/python3.9/site-packages/statsmodels/base/model.py:132\u001b[0m, in \u001b[0;36mModel._handle_data\u001b[0;34m(self, endog, exog, missing, hasconst, **kwargs)\u001b[0m\n\u001b[1;32m    <a href='file:///Users/mindongsung/Work/20220329_python_lecture/.venv/lib/python3.9/site-packages/statsmodels/base/model.py?line=130'>131</a>\u001b[0m \u001b[39mdef\u001b[39;00m \u001b[39m_handle_data\u001b[39m(\u001b[39mself\u001b[39m, endog, exog, missing, hasconst, \u001b[39m*\u001b[39m\u001b[39m*\u001b[39mkwargs):\n\u001b[0;32m--> <a href='file:///Users/mindongsung/Work/20220329_python_lecture/.venv/lib/python3.9/site-packages/statsmodels/base/model.py?line=131'>132</a>\u001b[0m     data \u001b[39m=\u001b[39m handle_data(endog, exog, missing, hasconst, \u001b[39m*\u001b[39;49m\u001b[39m*\u001b[39;49mkwargs)\n\u001b[1;32m    <a href='file:///Users/mindongsung/Work/20220329_python_lecture/.venv/lib/python3.9/site-packages/statsmodels/base/model.py?line=132'>133</a>\u001b[0m     \u001b[39m# kwargs arrays could have changed, easier to just attach here\u001b[39;00m\n\u001b[1;32m    <a href='file:///Users/mindongsung/Work/20220329_python_lecture/.venv/lib/python3.9/site-packages/statsmodels/base/model.py?line=133'>134</a>\u001b[0m     \u001b[39mfor\u001b[39;00m key \u001b[39min\u001b[39;00m kwargs:\n",
      "File \u001b[0;32m~/Work/20220329_python_lecture/.venv/lib/python3.9/site-packages/statsmodels/base/data.py:673\u001b[0m, in \u001b[0;36mhandle_data\u001b[0;34m(endog, exog, missing, hasconst, **kwargs)\u001b[0m\n\u001b[1;32m    <a href='file:///Users/mindongsung/Work/20220329_python_lecture/.venv/lib/python3.9/site-packages/statsmodels/base/data.py?line=669'>670</a>\u001b[0m     exog \u001b[39m=\u001b[39m np\u001b[39m.\u001b[39masarray(exog)\n\u001b[1;32m    <a href='file:///Users/mindongsung/Work/20220329_python_lecture/.venv/lib/python3.9/site-packages/statsmodels/base/data.py?line=671'>672</a>\u001b[0m klass \u001b[39m=\u001b[39m handle_data_class_factory(endog, exog)\n\u001b[0;32m--> <a href='file:///Users/mindongsung/Work/20220329_python_lecture/.venv/lib/python3.9/site-packages/statsmodels/base/data.py?line=672'>673</a>\u001b[0m \u001b[39mreturn\u001b[39;00m klass(endog, exog\u001b[39m=\u001b[39;49mexog, missing\u001b[39m=\u001b[39;49mmissing, hasconst\u001b[39m=\u001b[39;49mhasconst,\n\u001b[1;32m    <a href='file:///Users/mindongsung/Work/20220329_python_lecture/.venv/lib/python3.9/site-packages/statsmodels/base/data.py?line=673'>674</a>\u001b[0m              \u001b[39m*\u001b[39;49m\u001b[39m*\u001b[39;49mkwargs)\n",
      "File \u001b[0;32m~/Work/20220329_python_lecture/.venv/lib/python3.9/site-packages/statsmodels/base/data.py:82\u001b[0m, in \u001b[0;36mModelData.__init__\u001b[0;34m(self, endog, exog, missing, hasconst, **kwargs)\u001b[0m\n\u001b[1;32m     <a href='file:///Users/mindongsung/Work/20220329_python_lecture/.venv/lib/python3.9/site-packages/statsmodels/base/data.py?line=79'>80</a>\u001b[0m     \u001b[39mself\u001b[39m\u001b[39m.\u001b[39morig_endog \u001b[39m=\u001b[39m endog\n\u001b[1;32m     <a href='file:///Users/mindongsung/Work/20220329_python_lecture/.venv/lib/python3.9/site-packages/statsmodels/base/data.py?line=80'>81</a>\u001b[0m     \u001b[39mself\u001b[39m\u001b[39m.\u001b[39morig_exog \u001b[39m=\u001b[39m exog\n\u001b[0;32m---> <a href='file:///Users/mindongsung/Work/20220329_python_lecture/.venv/lib/python3.9/site-packages/statsmodels/base/data.py?line=81'>82</a>\u001b[0m     \u001b[39mself\u001b[39m\u001b[39m.\u001b[39mendog, \u001b[39mself\u001b[39m\u001b[39m.\u001b[39mexog \u001b[39m=\u001b[39m \u001b[39mself\u001b[39;49m\u001b[39m.\u001b[39;49m_convert_endog_exog(endog, exog)\n\u001b[1;32m     <a href='file:///Users/mindongsung/Work/20220329_python_lecture/.venv/lib/python3.9/site-packages/statsmodels/base/data.py?line=83'>84</a>\u001b[0m \u001b[39mself\u001b[39m\u001b[39m.\u001b[39mconst_idx \u001b[39m=\u001b[39m \u001b[39mNone\u001b[39;00m\n\u001b[1;32m     <a href='file:///Users/mindongsung/Work/20220329_python_lecture/.venv/lib/python3.9/site-packages/statsmodels/base/data.py?line=84'>85</a>\u001b[0m \u001b[39mself\u001b[39m\u001b[39m.\u001b[39mk_constant \u001b[39m=\u001b[39m \u001b[39m0\u001b[39m\n",
      "File \u001b[0;32m~/Work/20220329_python_lecture/.venv/lib/python3.9/site-packages/statsmodels/base/data.py:507\u001b[0m, in \u001b[0;36mPandasData._convert_endog_exog\u001b[0;34m(self, endog, exog)\u001b[0m\n\u001b[1;32m    <a href='file:///Users/mindongsung/Work/20220329_python_lecture/.venv/lib/python3.9/site-packages/statsmodels/base/data.py?line=504'>505</a>\u001b[0m exog \u001b[39m=\u001b[39m exog \u001b[39mif\u001b[39;00m exog \u001b[39mis\u001b[39;00m \u001b[39mNone\u001b[39;00m \u001b[39melse\u001b[39;00m np\u001b[39m.\u001b[39masarray(exog)\n\u001b[1;32m    <a href='file:///Users/mindongsung/Work/20220329_python_lecture/.venv/lib/python3.9/site-packages/statsmodels/base/data.py?line=505'>506</a>\u001b[0m \u001b[39mif\u001b[39;00m endog\u001b[39m.\u001b[39mdtype \u001b[39m==\u001b[39m \u001b[39mobject\u001b[39m \u001b[39mor\u001b[39;00m exog \u001b[39mis\u001b[39;00m \u001b[39mnot\u001b[39;00m \u001b[39mNone\u001b[39;00m \u001b[39mand\u001b[39;00m exog\u001b[39m.\u001b[39mdtype \u001b[39m==\u001b[39m \u001b[39mobject\u001b[39m:\n\u001b[0;32m--> <a href='file:///Users/mindongsung/Work/20220329_python_lecture/.venv/lib/python3.9/site-packages/statsmodels/base/data.py?line=506'>507</a>\u001b[0m     \u001b[39mraise\u001b[39;00m \u001b[39mValueError\u001b[39;00m(\u001b[39m\"\u001b[39m\u001b[39mPandas data cast to numpy dtype of object. \u001b[39m\u001b[39m\"\u001b[39m\n\u001b[1;32m    <a href='file:///Users/mindongsung/Work/20220329_python_lecture/.venv/lib/python3.9/site-packages/statsmodels/base/data.py?line=507'>508</a>\u001b[0m                      \u001b[39m\"\u001b[39m\u001b[39mCheck input data with np.asarray(data).\u001b[39m\u001b[39m\"\u001b[39m)\n\u001b[1;32m    <a href='file:///Users/mindongsung/Work/20220329_python_lecture/.venv/lib/python3.9/site-packages/statsmodels/base/data.py?line=508'>509</a>\u001b[0m \u001b[39mreturn\u001b[39;00m \u001b[39msuper\u001b[39m(PandasData, \u001b[39mself\u001b[39m)\u001b[39m.\u001b[39m_convert_endog_exog(endog, exog)\n",
      "\u001b[0;31mValueError\u001b[0m: Pandas data cast to numpy dtype of object. Check input data with np.asarray(data)."
     ]
    }
   ],
   "source": [
    "import statsmodels.api as sm\n",
    "X = sm.add_constant(X)\n",
    "model = sm.Logit(y,X)\n",
    "results = model.fit()\n",
    "\n",
    "print( results.summary() )"
   ]
  },
  {
   "cell_type": "code",
   "execution_count": 12,
   "metadata": {},
   "outputs": [
    {
     "name": "stdout",
     "output_type": "stream",
     "text": [
      "<class 'pandas.core.frame.DataFrame'>\n",
      "RangeIndex: 297064 entries, 0 to 297063\n",
      "Data columns (total 42 columns):\n",
      " #   Column                   Non-Null Count   Dtype   \n",
      "---  ------                   --------------   -----   \n",
      " 0   patientunitstayid        297064 non-null  Int64   \n",
      " 1   intubated                297064 non-null  category\n",
      " 2   vent                     297064 non-null  category\n",
      " 3   dialysis                 297064 non-null  category\n",
      " 4   eyes                     292484 non-null  Int64   \n",
      " 5   motor                    292484 non-null  Int64   \n",
      " 6   verbal                   292484 non-null  Int64   \n",
      " 7   meds                     295524 non-null  Int64   \n",
      " 8   urine                    152894 non-null  float64 \n",
      " 9   wbc                      226936 non-null  float64 \n",
      " 10  temperature              284808 non-null  float64 \n",
      " 11  respiratoryrate          295144 non-null  float64 \n",
      " 12  sodium                   239690 non-null  float64 \n",
      " 13  heartrate                296344 non-null  Int64   \n",
      " 14  meanbp                   296102 non-null  float64 \n",
      " 15  ph                       69874 non-null   float64 \n",
      " 16  hematocrit               233194 non-null  float64 \n",
      " 17  creatinine               238736 non-null  float64 \n",
      " 18  albumin                  117698 non-null  float64 \n",
      " 19  pao2                     69874 non-null   float64 \n",
      " 20  pco2                     69874 non-null   float64 \n",
      " 21  bun                      237610 non-null  float64 \n",
      " 22  glucose                  263718 non-null  float64 \n",
      " 23  bilirubin                106836 non-null  float64 \n",
      " 24  fio2                     69874 non-null   float64 \n",
      " 25  gender                   296958 non-null  category\n",
      " 26  age                      297064 non-null  Int64   \n",
      " 27  admitdiagnosis           295172 non-null  category\n",
      " 28  aids                     297064 non-null  category\n",
      " 29  hepaticfailure           297064 non-null  category\n",
      " 30  lymphoma                 297064 non-null  category\n",
      " 31  metastaticcancer         297064 non-null  category\n",
      " 32  leukemia                 297064 non-null  category\n",
      " 33  immunosuppression        297064 non-null  category\n",
      " 34  cirrhosis                297064 non-null  category\n",
      " 35  electivesurgery          297064 non-null  category\n",
      " 36  activetx                 297064 non-null  category\n",
      " 37  readmit                  297064 non-null  category\n",
      " 38  diabetes                 297064 non-null  category\n",
      " 39  actualicumortality       297064 non-null  category\n",
      " 40  actualhospitalmortality  297064 non-null  category\n",
      " 41  actualhospitallos        297064 non-null  float64 \n",
      "dtypes: Int64(7), category(18), float64(17)\n",
      "memory usage: 61.8 MB\n"
     ]
    }
   ],
   "source": [
    "data.info()"
   ]
  },
  {
   "cell_type": "code",
   "execution_count": null,
   "metadata": {},
   "outputs": [],
   "source": []
  }
 ],
 "metadata": {
  "interpreter": {
   "hash": "afb467b5f63526def15638577ababa572451f27f0ce252ce8306ad5c5ed4ee20"
  },
  "kernelspec": {
   "display_name": "Python 3.9.10 ('.venv': poetry)",
   "language": "python",
   "name": "python3"
  },
  "language_info": {
   "codemirror_mode": {
    "name": "ipython",
    "version": 3
   },
   "file_extension": ".py",
   "mimetype": "text/x-python",
   "name": "python",
   "nbconvert_exporter": "python",
   "pygments_lexer": "ipython3",
   "version": "3.9.10"
  },
  "orig_nbformat": 4
 },
 "nbformat": 4,
 "nbformat_minor": 2
}
