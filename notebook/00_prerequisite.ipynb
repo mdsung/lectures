{
 "cells": [
  {
   "cell_type": "code",
   "execution_count": null,
   "metadata": {},
   "outputs": [],
   "source": [
    "!mkdir notebook\n",
    "!mkdir -p data/processed\n",
    "!wget https://github.com/mdsung/20220329_python_datascience_lecture/raw/main/data/processed/aps_input.csv -o data/processed/aps_input.csv\n",
    "!wget https://github.com/mdsung/20220329_python_datascience_lecture/raw/main/data/processed/other_input.csv -o data/processed/other_input.csv\n",
    "!wget https://github.com/mdsung/20220329_python_datascience_lecture/raw/main/data/processed/outcomes.csv -o data/processed/outcomes.csv\n",
    "!wget https://github.com/mdsung/20220329_python_datascience_lecture/raw/main/notebook/01_EDA.ipynb -o notebook/01_EDA.ipynb\n",
    "!wget https://github.com/mdsung/20220329_python_datascience_lecture/raw/main/notebook/02_naive_lr.ipynb -o notebook/02_naive_lr.ipynb\n",
    "!wget https://github.com/mdsung/20220329_python_datascience_lecture/raw/main/notebook/03_feature_engineer_lr.ipynb -o notebook/03_feature_engineer_lr.ipynb\n",
    "!wget https://github.com/mdsung/20220329_python_datascience_lecture/raw/main/notebook/04_normalized_lr.ipynb -o notebook/04_normalized_lr.ipynb\n",
    "!wget https://github.com/mdsung/20220329_python_datascience_lecture/raw/main/notebook/pr_report.html -o notebook/pr_report.html\n",
    "!rm *.ipynb *.html *.csv"
   ]
  }
 ],
 "metadata": {
  "language_info": {
   "name": "python"
  },
  "orig_nbformat": 4
 },
 "nbformat": 4,
 "nbformat_minor": 2
}
