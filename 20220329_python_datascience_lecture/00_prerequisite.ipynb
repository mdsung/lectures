{
 "cells": [
  {
   "cell_type": "code",
   "execution_count": null,
   "metadata": {},
   "outputs": [],
   "source": [
    "!mkdir -p data/processed\n",
    "!wget https://github.com/mdsung/20220329_python_datascience_lecture/raw/main/data/processed/aps_input.csv -P data/processed/\n",
    "!wget https://github.com/mdsung/20220329_python_datascience_lecture/raw/main/data/processed/other_input.csv -P data/processed\n",
    "!wget https://github.com/mdsung/20220329_python_datascience_lecture/raw/main/data/processed/outcomes.csv -P data/processed\n",
    "!wget https://github.com/mdsung/20220329_python_datascience_lecture/raw/main/pr_report.html -P ./"
   ]
  },
  {
   "cell_type": "code",
   "execution_count": null,
   "metadata": {},
   "outputs": [],
   "source": [
    "!pip install pandas==1.3.5\n",
    "!pip install matplotlib\n",
    "!pip install pandas-profiling\n",
    "!pip install matplotlib\n",
    "\n"
   ]
  },
  {
   "cell_type": "code",
   "execution_count": null,
   "metadata": {},
   "outputs": [],
   "source": [
    "!wget https://github.com/mdsung/20220329_python_datascience_lecture/raw/main/data/processed/data.pkl -P data/processed"
   ]
  }
 ],
 "metadata": {
  "language_info": {
   "name": "python"
  },
  "orig_nbformat": 4
 },
 "nbformat": 4,
 "nbformat_minor": 2
}
