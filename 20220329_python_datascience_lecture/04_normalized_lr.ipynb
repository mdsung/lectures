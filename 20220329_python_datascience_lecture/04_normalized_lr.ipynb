{
 "cells": [
  {
   "cell_type": "markdown",
   "metadata": {},
   "source": [
    "# Logistic Regression #3 - normalize\n",
    "* Author: MinDong Sung\n",
    "* Date: 2022-03-29\n",
    "---\n",
    "* <img src=\"https://img1.daumcdn.net/thumb/R1280x0/?scode=mtistory2&fname=https%3A%2F%2Fblog.kakaocdn.net%2Fdn%2Fbq7P6I%2FbtrodBwY96f%2F0iMikK5iHm730YJ77ZbQz0%2Fimg.jpg\" width=\"500\"/>"
   ]
  },
  {
   "cell_type": "code",
   "execution_count": 22,
   "metadata": {},
   "outputs": [],
   "source": [
    "import pandas as pd\n",
    "import numpy as np\n",
    "data = pd.read_pickle('data/processed/data.pkl')\n"
   ]
  },
  {
   "cell_type": "code",
   "execution_count": 23,
   "metadata": {},
   "outputs": [],
   "source": [
    "# age / gender filter\n",
    "age_filter = data.age >= 20\n",
    "gender_filter = data.gender.notnull()\n",
    "data = data.loc[age_filter & gender_filter]"
   ]
  },
  {
   "cell_type": "code",
   "execution_count": 24,
   "metadata": {},
   "outputs": [
    {
     "data": {
      "text/plain": [
       "142016"
      ]
     },
     "execution_count": 24,
     "metadata": {},
     "output_type": "execute_result"
    }
   ],
   "source": [
    "len(data)"
   ]
  },
  {
   "cell_type": "code",
   "execution_count": 25,
   "metadata": {},
   "outputs": [
    {
     "data": {
      "text/plain": [
       "Index(['patientunitstayid', 'intubated', 'vent', 'dialysis', 'eyes', 'motor',\n",
       "       'verbal', 'meds', 'urine', 'wbc', 'temperature', 'respiratoryrate',\n",
       "       'sodium', 'heartrate', 'meanbp', 'hematocrit', 'creatinine', 'bun',\n",
       "       'glucose', 'gender', 'age', 'admitdiagnosis', 'aids', 'hepaticfailure',\n",
       "       'lymphoma', 'metastaticcancer', 'leukemia', 'immunosuppression',\n",
       "       'cirrhosis', 'electivesurgery', 'activetx', 'readmit', 'diabetes',\n",
       "       'actualicumortality', 'actualhospitalmortality', 'actualhospitallos'],\n",
       "      dtype='object')"
      ]
     },
     "execution_count": 25,
     "metadata": {},
     "output_type": "execute_result"
    }
   ],
   "source": [
    "# many missing columns\n",
    "filter_notnull_column = (data.isnull().sum() /len(data) < 0.5).to_numpy()\n",
    "data.columns[filter_notnull_column]"
   ]
  },
  {
   "cell_type": "code",
   "execution_count": 26,
   "metadata": {},
   "outputs": [],
   "source": [
    "data = data.loc[:,filter_notnull_column].reset_index(drop = True)"
   ]
  },
  {
   "cell_type": "code",
   "execution_count": 27,
   "metadata": {},
   "outputs": [],
   "source": [
    "def calculate_gcs(eyes, motor, verbal, meds):\n",
    "    if meds == 1:\n",
    "        return np.nan\n",
    "    return eyes + motor + verbal"
   ]
  },
  {
   "cell_type": "code",
   "execution_count": 28,
   "metadata": {},
   "outputs": [],
   "source": [
    "data.loc[:,'gcs'] = data.apply(lambda x: calculate_gcs(x['eyes'], x['motor'], x['verbal'], x['meds']), axis=1)\n",
    "data.drop(['eyes', 'motor', 'verbal', 'meds'], axis=1, inplace=True)"
   ]
  },
  {
   "cell_type": "code",
   "execution_count": 29,
   "metadata": {},
   "outputs": [],
   "source": [
    "gcs_filler = data['gcs'].mean().round()"
   ]
  },
  {
   "cell_type": "code",
   "execution_count": 30,
   "metadata": {},
   "outputs": [],
   "source": [
    "median_filling_columns = ['urine', 'wbc', 'temperature', 'sodium', 'hematocrit', 'creatinine', 'bun', 'glucose', 'respiratoryrate', 'heartrate','meanbp']\n",
    "median_int_filling_columns = ['gcs']"
   ]
  },
  {
   "cell_type": "code",
   "execution_count": 31,
   "metadata": {},
   "outputs": [],
   "source": [
    "# split_train_test_dataset\n",
    "from sklearn.model_selection import train_test_split\n",
    "X_total = data.drop(['patientunitstayid','admitdiagnosis', 'actualicumortality', 'actualhospitalmortality', 'actualhospitallos'], axis=1)\n",
    "y_total = data['actualicumortality']\n",
    "X_train, X_test, y_train, y_test = train_test_split(X_total, y_total, stratify=y_total, test_size=0.20, random_state=2022)"
   ]
  },
  {
   "cell_type": "code",
   "execution_count": 32,
   "metadata": {},
   "outputs": [],
   "source": [
    "# filling NA in train dataset\n",
    "median_filler = X_train.loc[:,median_filling_columns].mean()\n",
    "median_int_filler = X_train.loc[:,median_int_filling_columns].mean().round()\n",
    "X_train.loc[:,median_filling_columns] = X_train.loc[:,median_filling_columns].fillna(median_filler)\n",
    "X_train.loc[:,median_int_filling_columns] = X_train.loc[:,median_int_filling_columns].fillna(median_int_filler)"
   ]
  },
  {
   "cell_type": "code",
   "execution_count": 33,
   "metadata": {},
   "outputs": [
    {
     "data": {
      "text/html": [
       "<div>\n",
       "<style scoped>\n",
       "    .dataframe tbody tr th:only-of-type {\n",
       "        vertical-align: middle;\n",
       "    }\n",
       "\n",
       "    .dataframe tbody tr th {\n",
       "        vertical-align: top;\n",
       "    }\n",
       "\n",
       "    .dataframe thead th {\n",
       "        text-align: right;\n",
       "    }\n",
       "</style>\n",
       "<table border=\"1\" class=\"dataframe\">\n",
       "  <thead>\n",
       "    <tr style=\"text-align: right;\">\n",
       "      <th></th>\n",
       "      <th>intubated</th>\n",
       "      <th>vent</th>\n",
       "      <th>dialysis</th>\n",
       "      <th>urine</th>\n",
       "      <th>wbc</th>\n",
       "      <th>temperature</th>\n",
       "      <th>respiratoryrate</th>\n",
       "      <th>sodium</th>\n",
       "      <th>heartrate</th>\n",
       "      <th>meanbp</th>\n",
       "      <th>...</th>\n",
       "      <th>lymphoma</th>\n",
       "      <th>metastaticcancer</th>\n",
       "      <th>leukemia</th>\n",
       "      <th>immunosuppression</th>\n",
       "      <th>cirrhosis</th>\n",
       "      <th>electivesurgery</th>\n",
       "      <th>activetx</th>\n",
       "      <th>readmit</th>\n",
       "      <th>diabetes</th>\n",
       "      <th>gcs</th>\n",
       "    </tr>\n",
       "  </thead>\n",
       "  <tbody>\n",
       "    <tr>\n",
       "      <th>21308</th>\n",
       "      <td>0</td>\n",
       "      <td>0</td>\n",
       "      <td>0</td>\n",
       "      <td>225.676800</td>\n",
       "      <td>12.273005</td>\n",
       "      <td>36.3000</td>\n",
       "      <td>11.0</td>\n",
       "      <td>137.923471</td>\n",
       "      <td>95.0</td>\n",
       "      <td>70.0</td>\n",
       "      <td>...</td>\n",
       "      <td>0</td>\n",
       "      <td>0</td>\n",
       "      <td>0</td>\n",
       "      <td>0</td>\n",
       "      <td>0</td>\n",
       "      <td>0</td>\n",
       "      <td>0</td>\n",
       "      <td>0</td>\n",
       "      <td>0</td>\n",
       "      <td>15.0</td>\n",
       "    </tr>\n",
       "    <tr>\n",
       "      <th>44993</th>\n",
       "      <td>0</td>\n",
       "      <td>1</td>\n",
       "      <td>0</td>\n",
       "      <td>1297.382400</td>\n",
       "      <td>11.920000</td>\n",
       "      <td>36.7000</td>\n",
       "      <td>12.0</td>\n",
       "      <td>142.000000</td>\n",
       "      <td>105.0</td>\n",
       "      <td>71.0</td>\n",
       "      <td>...</td>\n",
       "      <td>0</td>\n",
       "      <td>0</td>\n",
       "      <td>0</td>\n",
       "      <td>0</td>\n",
       "      <td>0</td>\n",
       "      <td>0</td>\n",
       "      <td>1</td>\n",
       "      <td>0</td>\n",
       "      <td>0</td>\n",
       "      <td>15.0</td>\n",
       "    </tr>\n",
       "    <tr>\n",
       "      <th>34712</th>\n",
       "      <td>0</td>\n",
       "      <td>0</td>\n",
       "      <td>0</td>\n",
       "      <td>1892.246400</td>\n",
       "      <td>7.800000</td>\n",
       "      <td>36.6000</td>\n",
       "      <td>11.0</td>\n",
       "      <td>144.000000</td>\n",
       "      <td>127.0</td>\n",
       "      <td>108.0</td>\n",
       "      <td>...</td>\n",
       "      <td>0</td>\n",
       "      <td>0</td>\n",
       "      <td>0</td>\n",
       "      <td>0</td>\n",
       "      <td>0</td>\n",
       "      <td>0</td>\n",
       "      <td>1</td>\n",
       "      <td>0</td>\n",
       "      <td>0</td>\n",
       "      <td>15.0</td>\n",
       "    </tr>\n",
       "    <tr>\n",
       "      <th>101732</th>\n",
       "      <td>0</td>\n",
       "      <td>0</td>\n",
       "      <td>0</td>\n",
       "      <td>1821.333058</td>\n",
       "      <td>11.220000</td>\n",
       "      <td>36.4000</td>\n",
       "      <td>7.0</td>\n",
       "      <td>138.000000</td>\n",
       "      <td>143.0</td>\n",
       "      <td>43.0</td>\n",
       "      <td>...</td>\n",
       "      <td>0</td>\n",
       "      <td>0</td>\n",
       "      <td>0</td>\n",
       "      <td>0</td>\n",
       "      <td>0</td>\n",
       "      <td>0</td>\n",
       "      <td>0</td>\n",
       "      <td>0</td>\n",
       "      <td>0</td>\n",
       "      <td>13.0</td>\n",
       "    </tr>\n",
       "    <tr>\n",
       "      <th>113051</th>\n",
       "      <td>0</td>\n",
       "      <td>0</td>\n",
       "      <td>0</td>\n",
       "      <td>817.171200</td>\n",
       "      <td>14.100000</td>\n",
       "      <td>36.9000</td>\n",
       "      <td>11.0</td>\n",
       "      <td>143.000000</td>\n",
       "      <td>44.0</td>\n",
       "      <td>113.0</td>\n",
       "      <td>...</td>\n",
       "      <td>0</td>\n",
       "      <td>0</td>\n",
       "      <td>0</td>\n",
       "      <td>0</td>\n",
       "      <td>0</td>\n",
       "      <td>0</td>\n",
       "      <td>0</td>\n",
       "      <td>0</td>\n",
       "      <td>0</td>\n",
       "      <td>15.0</td>\n",
       "    </tr>\n",
       "    <tr>\n",
       "      <th>...</th>\n",
       "      <td>...</td>\n",
       "      <td>...</td>\n",
       "      <td>...</td>\n",
       "      <td>...</td>\n",
       "      <td>...</td>\n",
       "      <td>...</td>\n",
       "      <td>...</td>\n",
       "      <td>...</td>\n",
       "      <td>...</td>\n",
       "      <td>...</td>\n",
       "      <td>...</td>\n",
       "      <td>...</td>\n",
       "      <td>...</td>\n",
       "      <td>...</td>\n",
       "      <td>...</td>\n",
       "      <td>...</td>\n",
       "      <td>...</td>\n",
       "      <td>...</td>\n",
       "      <td>...</td>\n",
       "      <td>...</td>\n",
       "      <td>...</td>\n",
       "    </tr>\n",
       "    <tr>\n",
       "      <th>54491</th>\n",
       "      <td>0</td>\n",
       "      <td>1</td>\n",
       "      <td>0</td>\n",
       "      <td>1821.333058</td>\n",
       "      <td>13.310000</td>\n",
       "      <td>36.4272</td>\n",
       "      <td>48.0</td>\n",
       "      <td>136.000000</td>\n",
       "      <td>56.0</td>\n",
       "      <td>123.0</td>\n",
       "      <td>...</td>\n",
       "      <td>0</td>\n",
       "      <td>0</td>\n",
       "      <td>0</td>\n",
       "      <td>0</td>\n",
       "      <td>0</td>\n",
       "      <td>1</td>\n",
       "      <td>1</td>\n",
       "      <td>0</td>\n",
       "      <td>0</td>\n",
       "      <td>15.0</td>\n",
       "    </tr>\n",
       "    <tr>\n",
       "      <th>141103</th>\n",
       "      <td>1</td>\n",
       "      <td>1</td>\n",
       "      <td>0</td>\n",
       "      <td>1832.544000</td>\n",
       "      <td>10.400000</td>\n",
       "      <td>36.3000</td>\n",
       "      <td>51.0</td>\n",
       "      <td>139.000000</td>\n",
       "      <td>104.0</td>\n",
       "      <td>69.0</td>\n",
       "      <td>...</td>\n",
       "      <td>0</td>\n",
       "      <td>0</td>\n",
       "      <td>0</td>\n",
       "      <td>0</td>\n",
       "      <td>0</td>\n",
       "      <td>0</td>\n",
       "      <td>1</td>\n",
       "      <td>0</td>\n",
       "      <td>0</td>\n",
       "      <td>13.0</td>\n",
       "    </tr>\n",
       "    <tr>\n",
       "      <th>121837</th>\n",
       "      <td>0</td>\n",
       "      <td>1</td>\n",
       "      <td>0</td>\n",
       "      <td>1188.086400</td>\n",
       "      <td>5.700000</td>\n",
       "      <td>36.5000</td>\n",
       "      <td>11.0</td>\n",
       "      <td>139.000000</td>\n",
       "      <td>105.0</td>\n",
       "      <td>140.0</td>\n",
       "      <td>...</td>\n",
       "      <td>0</td>\n",
       "      <td>0</td>\n",
       "      <td>0</td>\n",
       "      <td>0</td>\n",
       "      <td>0</td>\n",
       "      <td>0</td>\n",
       "      <td>1</td>\n",
       "      <td>0</td>\n",
       "      <td>0</td>\n",
       "      <td>12.0</td>\n",
       "    </tr>\n",
       "    <tr>\n",
       "      <th>54658</th>\n",
       "      <td>0</td>\n",
       "      <td>0</td>\n",
       "      <td>0</td>\n",
       "      <td>1821.333058</td>\n",
       "      <td>10.520000</td>\n",
       "      <td>36.4272</td>\n",
       "      <td>4.0</td>\n",
       "      <td>137.000000</td>\n",
       "      <td>60.0</td>\n",
       "      <td>55.0</td>\n",
       "      <td>...</td>\n",
       "      <td>0</td>\n",
       "      <td>0</td>\n",
       "      <td>0</td>\n",
       "      <td>0</td>\n",
       "      <td>0</td>\n",
       "      <td>0</td>\n",
       "      <td>0</td>\n",
       "      <td>0</td>\n",
       "      <td>0</td>\n",
       "      <td>15.0</td>\n",
       "    </tr>\n",
       "    <tr>\n",
       "      <th>135245</th>\n",
       "      <td>0</td>\n",
       "      <td>0</td>\n",
       "      <td>0</td>\n",
       "      <td>1172.880000</td>\n",
       "      <td>13.600000</td>\n",
       "      <td>37.2000</td>\n",
       "      <td>9.0</td>\n",
       "      <td>140.000000</td>\n",
       "      <td>91.0</td>\n",
       "      <td>73.0</td>\n",
       "      <td>...</td>\n",
       "      <td>0</td>\n",
       "      <td>0</td>\n",
       "      <td>0</td>\n",
       "      <td>0</td>\n",
       "      <td>0</td>\n",
       "      <td>0</td>\n",
       "      <td>1</td>\n",
       "      <td>0</td>\n",
       "      <td>0</td>\n",
       "      <td>15.0</td>\n",
       "    </tr>\n",
       "  </tbody>\n",
       "</table>\n",
       "<p>113612 rows × 28 columns</p>\n",
       "</div>"
      ],
      "text/plain": [
       "       intubated vent dialysis        urine        wbc  temperature  \\\n",
       "21308          0    0        0   225.676800  12.273005      36.3000   \n",
       "44993          0    1        0  1297.382400  11.920000      36.7000   \n",
       "34712          0    0        0  1892.246400   7.800000      36.6000   \n",
       "101732         0    0        0  1821.333058  11.220000      36.4000   \n",
       "113051         0    0        0   817.171200  14.100000      36.9000   \n",
       "...          ...  ...      ...          ...        ...          ...   \n",
       "54491          0    1        0  1821.333058  13.310000      36.4272   \n",
       "141103         1    1        0  1832.544000  10.400000      36.3000   \n",
       "121837         0    1        0  1188.086400   5.700000      36.5000   \n",
       "54658          0    0        0  1821.333058  10.520000      36.4272   \n",
       "135245         0    0        0  1172.880000  13.600000      37.2000   \n",
       "\n",
       "        respiratoryrate      sodium  heartrate  meanbp  ...  lymphoma  \\\n",
       "21308              11.0  137.923471       95.0    70.0  ...         0   \n",
       "44993              12.0  142.000000      105.0    71.0  ...         0   \n",
       "34712              11.0  144.000000      127.0   108.0  ...         0   \n",
       "101732              7.0  138.000000      143.0    43.0  ...         0   \n",
       "113051             11.0  143.000000       44.0   113.0  ...         0   \n",
       "...                 ...         ...        ...     ...  ...       ...   \n",
       "54491              48.0  136.000000       56.0   123.0  ...         0   \n",
       "141103             51.0  139.000000      104.0    69.0  ...         0   \n",
       "121837             11.0  139.000000      105.0   140.0  ...         0   \n",
       "54658               4.0  137.000000       60.0    55.0  ...         0   \n",
       "135245              9.0  140.000000       91.0    73.0  ...         0   \n",
       "\n",
       "        metastaticcancer  leukemia  immunosuppression cirrhosis  \\\n",
       "21308                  0         0                  0         0   \n",
       "44993                  0         0                  0         0   \n",
       "34712                  0         0                  0         0   \n",
       "101732                 0         0                  0         0   \n",
       "113051                 0         0                  0         0   \n",
       "...                  ...       ...                ...       ...   \n",
       "54491                  0         0                  0         0   \n",
       "141103                 0         0                  0         0   \n",
       "121837                 0         0                  0         0   \n",
       "54658                  0         0                  0         0   \n",
       "135245                 0         0                  0         0   \n",
       "\n",
       "        electivesurgery activetx readmit diabetes   gcs  \n",
       "21308                 0        0       0        0  15.0  \n",
       "44993                 0        1       0        0  15.0  \n",
       "34712                 0        1       0        0  15.0  \n",
       "101732                0        0       0        0  13.0  \n",
       "113051                0        0       0        0  15.0  \n",
       "...                 ...      ...     ...      ...   ...  \n",
       "54491                 1        1       0        0  15.0  \n",
       "141103                0        1       0        0  13.0  \n",
       "121837                0        1       0        0  12.0  \n",
       "54658                 0        0       0        0  15.0  \n",
       "135245                0        1       0        0  15.0  \n",
       "\n",
       "[113612 rows x 28 columns]"
      ]
     },
     "execution_count": 33,
     "metadata": {},
     "output_type": "execute_result"
    }
   ],
   "source": [
    "X_train"
   ]
  },
  {
   "cell_type": "code",
   "execution_count": 34,
   "metadata": {},
   "outputs": [
    {
     "data": {
      "text/plain": [
       "urine              1821.333058\n",
       "wbc                  12.273005\n",
       "temperature          36.427200\n",
       "sodium              137.923471\n",
       "hematocrit           32.606850\n",
       "creatinine            1.567922\n",
       "bun                  26.702392\n",
       "glucose             164.354953\n",
       "respiratoryrate      25.474811\n",
       "heartrate           100.507724\n",
       "meanbp               87.176268\n",
       "dtype: float64"
      ]
     },
     "execution_count": 34,
     "metadata": {},
     "output_type": "execute_result"
    }
   ],
   "source": [
    "median_filler"
   ]
  },
  {
   "cell_type": "code",
   "execution_count": 61,
   "metadata": {},
   "outputs": [
    {
     "data": {
      "text/plain": [
       "<AxesSubplot:>"
      ]
     },
     "execution_count": 61,
     "metadata": {},
     "output_type": "execute_result"
    },
    {
     "data": {
      "image/png": "[encoded data removed]",
      "text/plain": [
       "<Figure size 432x288 with 1 Axes>"
      ]
     },
     "metadata": {
      "needs_background": "light"
     },
     "output_type": "display_data"
    }
   ],
   "source": [
    "X_train.boxplot()"
   ]
  },
  {
   "cell_type": "code",
   "execution_count": 46,
   "metadata": {},
   "outputs": [],
   "source": [
    "from sklearn.preprocessing import StandardScaler\n",
    "scaler = StandardScaler()\n",
    "scaler.fit(X_train)\n",
    "X_train_norm = scaler.transform(X_train)"
   ]
  },
  {
   "cell_type": "code",
   "execution_count": 50,
   "metadata": {},
   "outputs": [
    {
     "data": {
      "text/plain": [
       "<AxesSubplot:>"
      ]
     },
     "execution_count": 50,
     "metadata": {},
     "output_type": "execute_result"
    },
    {
     "data": {
      "image/png": "[encoded data removed]",
      "text/plain": [
       "<Figure size 432x288 with 1 Axes>"
      ]
     },
     "metadata": {
      "needs_background": "light"
     },
     "output_type": "display_data"
    }
   ],
   "source": [
    "pd.DataFrame(X_train_norm, columns = X_train.columns).boxplot()"
   ]
  },
  {
   "cell_type": "code",
   "execution_count": 36,
   "metadata": {},
   "outputs": [
    {
     "data": {
      "text/plain": [
       "LogisticRegression()"
      ]
     },
     "execution_count": 36,
     "metadata": {},
     "output_type": "execute_result"
    }
   ],
   "source": [
    "from sklearn.linear_model import LogisticRegression\n",
    "logmodel = LogisticRegression()\n",
    "logmodel.fit(X_train_norm, y_train)"
   ]
  },
  {
   "cell_type": "code",
   "execution_count": 37,
   "metadata": {},
   "outputs": [
    {
     "name": "stdout",
     "output_type": "stream",
     "text": [
      "              precision    recall  f1-score   support\n",
      "\n",
      "           0       0.95      0.99      0.97     26784\n",
      "           1       0.54      0.11      0.19      1620\n",
      "\n",
      "    accuracy                           0.94     28404\n",
      "   macro avg       0.75      0.55      0.58     28404\n",
      "weighted avg       0.93      0.94      0.93     28404\n",
      "\n"
     ]
    }
   ],
   "source": [
    "X_test.loc[:,median_filling_columns] = X_test.loc[:,median_filling_columns].fillna(median_filler)\n",
    "X_test.loc[:,median_int_filling_columns] = X_test.loc[:,median_int_filling_columns].fillna(median_int_filler)\n",
    "X_test_norm = scaler.transform(X_test)\n",
    "predictions = logmodel.predict(X_test_norm)\n",
    "from sklearn.metrics import classification_report\n",
    "print(classification_report(y_test,predictions))"
   ]
  },
  {
   "cell_type": "code",
   "execution_count": 38,
   "metadata": {},
   "outputs": [
    {
     "data": {
      "text/plain": [
       "(array([0.00000000e+00, 0.00000000e+00, 3.73357228e-05, ...,\n",
       "        9.70019415e-01, 9.70019415e-01, 1.00000000e+00]),\n",
       " array([0.00000000e+00, 6.17283951e-04, 6.17283951e-04, ...,\n",
       "        9.99382716e-01, 1.00000000e+00, 1.00000000e+00]),\n",
       " array([1.94067839e+00, 9.40678386e-01, 9.25075042e-01, ...,\n",
       "        2.09245105e-03, 2.09239641e-03, 5.50009432e-06]))"
      ]
     },
     "execution_count": 38,
     "metadata": {},
     "output_type": "execute_result"
    }
   ],
   "source": [
    "from sklearn.metrics import roc_curve\n",
    "fpr, tpr, thresholds = roc_curve(y_test, logmodel.predict_proba(X_test_norm)[:,1])\n",
    "fpr, tpr, thresholds"
   ]
  },
  {
   "cell_type": "code",
   "execution_count": 39,
   "metadata": {},
   "outputs": [
    {
     "data": {
      "image/png": "[encoded data removed]",
      "text/plain": [
       "<Figure size 432x288 with 1 Axes>"
      ]
     },
     "metadata": {
      "needs_background": "light"
     },
     "output_type": "display_data"
    }
   ],
   "source": [
    "import matplotlib.pyplot as plt\n",
    "plt.plot(fpr, tpr, 'o-', label=\"Logistic Regression\") # o for circle\n",
    "plt.plot([0, 1], [0, 1], 'k--', label=\"random guess\") # k for black\n",
    "plt.xlabel('Fall-Out')\n",
    "plt.ylabel('Recall')\n",
    "plt.title('Receiver operating characteristic')\n",
    "plt.show()"
   ]
  },
  {
   "cell_type": "code",
   "execution_count": 40,
   "metadata": {},
   "outputs": [
    {
     "data": {
      "text/plain": [
       "0.8671050157086597"
      ]
     },
     "execution_count": 40,
     "metadata": {},
     "output_type": "execute_result"
    }
   ],
   "source": [
    "from sklearn.metrics import auc\n",
    "auc(fpr, tpr)"
   ]
  },
  {
   "cell_type": "code",
   "execution_count": 41,
   "metadata": {},
   "outputs": [
    {
     "data": {
      "text/plain": [
       "array([[26627,   157],\n",
       "       [ 1434,   186]])"
      ]
     },
     "execution_count": 41,
     "metadata": {},
     "output_type": "execute_result"
    }
   ],
   "source": [
    "from sklearn.metrics import confusion_matrix\n",
    "confusion_matrix(y_test, predictions)"
   ]
  },
  {
   "cell_type": "code",
   "execution_count": 42,
   "metadata": {},
   "outputs": [
    {
     "data": {
      "text/html": [
       "<div>\n",
       "<style scoped>\n",
       "    .dataframe tbody tr th:only-of-type {\n",
       "        vertical-align: middle;\n",
       "    }\n",
       "\n",
       "    .dataframe tbody tr th {\n",
       "        vertical-align: top;\n",
       "    }\n",
       "\n",
       "    .dataframe thead th {\n",
       "        text-align: right;\n",
       "    }\n",
       "</style>\n",
       "<table border=\"1\" class=\"dataframe\">\n",
       "  <thead>\n",
       "    <tr style=\"text-align: right;\">\n",
       "      <th></th>\n",
       "      <th>items</th>\n",
       "      <th>OR</th>\n",
       "    </tr>\n",
       "  </thead>\n",
       "  <tbody>\n",
       "    <tr>\n",
       "      <th>24</th>\n",
       "      <td>activetx</td>\n",
       "      <td>1.549427</td>\n",
       "    </tr>\n",
       "    <tr>\n",
       "      <th>15</th>\n",
       "      <td>age</td>\n",
       "      <td>1.486242</td>\n",
       "    </tr>\n",
       "    <tr>\n",
       "      <th>8</th>\n",
       "      <td>heartrate</td>\n",
       "      <td>1.314785</td>\n",
       "    </tr>\n",
       "    <tr>\n",
       "      <th>6</th>\n",
       "      <td>respiratoryrate</td>\n",
       "      <td>1.272508</td>\n",
       "    </tr>\n",
       "    <tr>\n",
       "      <th>1</th>\n",
       "      <td>vent</td>\n",
       "      <td>1.233924</td>\n",
       "    </tr>\n",
       "    <tr>\n",
       "      <th>12</th>\n",
       "      <td>bun</td>\n",
       "      <td>1.166305</td>\n",
       "    </tr>\n",
       "    <tr>\n",
       "      <th>4</th>\n",
       "      <td>wbc</td>\n",
       "      <td>1.146167</td>\n",
       "    </tr>\n",
       "    <tr>\n",
       "      <th>19</th>\n",
       "      <td>metastaticcancer</td>\n",
       "      <td>1.127111</td>\n",
       "    </tr>\n",
       "    <tr>\n",
       "      <th>0</th>\n",
       "      <td>intubated</td>\n",
       "      <td>1.099702</td>\n",
       "    </tr>\n",
       "    <tr>\n",
       "      <th>11</th>\n",
       "      <td>creatinine</td>\n",
       "      <td>1.095025</td>\n",
       "    </tr>\n",
       "    <tr>\n",
       "      <th>13</th>\n",
       "      <td>glucose</td>\n",
       "      <td>1.086081</td>\n",
       "    </tr>\n",
       "    <tr>\n",
       "      <th>22</th>\n",
       "      <td>cirrhosis</td>\n",
       "      <td>1.067818</td>\n",
       "    </tr>\n",
       "    <tr>\n",
       "      <th>21</th>\n",
       "      <td>immunosuppression</td>\n",
       "      <td>1.055497</td>\n",
       "    </tr>\n",
       "    <tr>\n",
       "      <th>25</th>\n",
       "      <td>readmit</td>\n",
       "      <td>1.048840</td>\n",
       "    </tr>\n",
       "    <tr>\n",
       "      <th>17</th>\n",
       "      <td>hepaticfailure</td>\n",
       "      <td>1.047892</td>\n",
       "    </tr>\n",
       "    <tr>\n",
       "      <th>20</th>\n",
       "      <td>leukemia</td>\n",
       "      <td>1.047765</td>\n",
       "    </tr>\n",
       "    <tr>\n",
       "      <th>16</th>\n",
       "      <td>aids</td>\n",
       "      <td>1.023625</td>\n",
       "    </tr>\n",
       "    <tr>\n",
       "      <th>18</th>\n",
       "      <td>lymphoma</td>\n",
       "      <td>1.021974</td>\n",
       "    </tr>\n",
       "    <tr>\n",
       "      <th>2</th>\n",
       "      <td>dialysis</td>\n",
       "      <td>0.994824</td>\n",
       "    </tr>\n",
       "    <tr>\n",
       "      <th>7</th>\n",
       "      <td>sodium</td>\n",
       "      <td>0.987037</td>\n",
       "    </tr>\n",
       "    <tr>\n",
       "      <th>14</th>\n",
       "      <td>gender</td>\n",
       "      <td>0.967498</td>\n",
       "    </tr>\n",
       "    <tr>\n",
       "      <th>10</th>\n",
       "      <td>hematocrit</td>\n",
       "      <td>0.956523</td>\n",
       "    </tr>\n",
       "    <tr>\n",
       "      <th>9</th>\n",
       "      <td>meanbp</td>\n",
       "      <td>0.872279</td>\n",
       "    </tr>\n",
       "    <tr>\n",
       "      <th>26</th>\n",
       "      <td>diabetes</td>\n",
       "      <td>0.861120</td>\n",
       "    </tr>\n",
       "    <tr>\n",
       "      <th>3</th>\n",
       "      <td>urine</td>\n",
       "      <td>0.845251</td>\n",
       "    </tr>\n",
       "    <tr>\n",
       "      <th>5</th>\n",
       "      <td>temperature</td>\n",
       "      <td>0.817622</td>\n",
       "    </tr>\n",
       "    <tr>\n",
       "      <th>23</th>\n",
       "      <td>electivesurgery</td>\n",
       "      <td>0.633149</td>\n",
       "    </tr>\n",
       "    <tr>\n",
       "      <th>27</th>\n",
       "      <td>gcs</td>\n",
       "      <td>0.578612</td>\n",
       "    </tr>\n",
       "  </tbody>\n",
       "</table>\n",
       "</div>"
      ],
      "text/plain": [
       "                items        OR\n",
       "24           activetx  1.549427\n",
       "15                age  1.486242\n",
       "8           heartrate  1.314785\n",
       "6     respiratoryrate  1.272508\n",
       "1                vent  1.233924\n",
       "12                bun  1.166305\n",
       "4                 wbc  1.146167\n",
       "19   metastaticcancer  1.127111\n",
       "0           intubated  1.099702\n",
       "11         creatinine  1.095025\n",
       "13            glucose  1.086081\n",
       "22          cirrhosis  1.067818\n",
       "21  immunosuppression  1.055497\n",
       "25            readmit  1.048840\n",
       "17     hepaticfailure  1.047892\n",
       "20           leukemia  1.047765\n",
       "16               aids  1.023625\n",
       "18           lymphoma  1.021974\n",
       "2            dialysis  0.994824\n",
       "7              sodium  0.987037\n",
       "14             gender  0.967498\n",
       "10         hematocrit  0.956523\n",
       "9              meanbp  0.872279\n",
       "26           diabetes  0.861120\n",
       "3               urine  0.845251\n",
       "5         temperature  0.817622\n",
       "23    electivesurgery  0.633149\n",
       "27                gcs  0.578612"
      ]
     },
     "execution_count": 42,
     "metadata": {},
     "output_type": "execute_result"
    }
   ],
   "source": [
    "# feature importance\n",
    "items = X_train.columns\n",
    "odd_ratio = np.exp(logmodel.coef_)\n",
    "pd.DataFrame({'items':items, 'OR':odd_ratio.squeeze()}).sort_values('OR', ascending=False)"
   ]
  }
 ],
 "metadata": {
  "interpreter": {
   "hash": "3e67ef026711a7fe61cf4264e30920cbe25f090db015d3fdb1a4f11eec82ca11"
  },
  "kernelspec": {
   "display_name": "Python 3.9.7 ('.venv': poetry)",
   "language": "python",
   "name": "python3"
  },
  "language_info": {
   "codemirror_mode": {
    "name": "ipython",
    "version": 3
   },
   "file_extension": ".py",
   "mimetype": "text/x-python",
   "name": "python",
   "nbconvert_exporter": "python",
   "pygments_lexer": "ipython3",
   "version": "3.9.7"
  },
  "orig_nbformat": 4
 },
 "nbformat": 4,
 "nbformat_minor": 2
}
