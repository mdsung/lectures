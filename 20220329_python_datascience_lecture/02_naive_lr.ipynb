{
 "cells": [
  {
   "cell_type": "markdown",
   "metadata": {},
   "source": [
    "# Logistic regression #1 (feat. sckit-learn)\n",
    "* Author: MinDong Sung\n",
    "* Date: 2022-03-29\n",
    "---\n",
    "- One of the most famous classification model\n",
    "- $\\min_{w, c} \\|w\\| + C \\sum_{i=1}^n \\log(\\exp(- y_i (X_i^T w + c)) + 1)$\n",
    "- Reference: \n",
    "    * [scikit-learn - logistic regression](https://scikit-learn.org/dev/modules/linear_model.html#logistic-regression)\n",
    "    * [scikit-learn - LogisticRegression()](https://scikit-learn.org/dev/modules/generated/sklearn.linear_model.LogisticRegression.html#sklearn.linear_model.LogisticRegression)\n"
   ]
  },
  {
   "cell_type": "code",
   "execution_count": 2,
   "metadata": {},
   "outputs": [],
   "source": [
    "import pandas as pd"
   ]
  },
  {
   "cell_type": "code",
   "execution_count": 3,
   "metadata": {},
   "outputs": [
    {
     "data": {
      "text/plain": [
       "Index(['patientunitstayid', 'intubated', 'vent', 'dialysis', 'eyes', 'motor',\n",
       "       'verbal', 'meds', 'urine', 'wbc', 'temperature', 'respiratoryrate',\n",
       "       'sodium', 'heartrate', 'meanbp', 'ph', 'hematocrit', 'creatinine',\n",
       "       'albumin', 'pao2', 'pco2', 'bun', 'glucose', 'bilirubin', 'fio2',\n",
       "       'gender', 'age', 'admitdiagnosis', 'aids', 'hepaticfailure', 'lymphoma',\n",
       "       'metastaticcancer', 'leukemia', 'immunosuppression', 'cirrhosis',\n",
       "       'electivesurgery', 'activetx', 'readmit', 'diabetes',\n",
       "       'actualicumortality', 'actualhospitalmortality', 'actualhospitallos'],\n",
       "      dtype='object')"
      ]
     },
     "execution_count": 3,
     "metadata": {},
     "output_type": "execute_result"
    }
   ],
   "source": [
    "data = pd.read_pickle('data/processed/data.pkl')\n",
    "data.columns"
   ]
  },
  {
   "cell_type": "code",
   "execution_count": 4,
   "metadata": {},
   "outputs": [
    {
     "data": {
      "text/plain": [
       "6404"
      ]
     },
     "execution_count": 4,
     "metadata": {},
     "output_type": "execute_result"
    }
   ],
   "source": [
    "# remove all null values\n",
    "data_remove_null = data.dropna()\n",
    "len(data_remove_null)"
   ]
  },
  {
   "cell_type": "markdown",
   "metadata": {},
   "source": [
    "## Split dataset as train and test sets\n",
    "* train set\n",
    "* test set\n",
    "* valid set\n",
    "\n",
    "* <img src=\"https://img1.daumcdn.net/thumb/R1280x0/?scode=mtistory2&fname=https%3A%2F%2Fblog.kakaocdn.net%2Fdn%2FdVfds2%2FbtqLkhbs7T4%2FU97igLNa0nSfvmBPn5BnbK%2Fimg.png\" alt=\"dataset\" width=\"300\"/>\n",
    "\n",
    "* cross-validation\n",
    "* <img src=\"https://blog.kakaocdn.net/dn/3gQO8/btqF0ZOHja8/SUTbGTYwVndcUJ5qWusqa0/img.png\" alt=\"dataset\" width=\"300\"/>\n",
    "\n"
   ]
  },
  {
   "cell_type": "code",
   "execution_count": 5,
   "metadata": {},
   "outputs": [],
   "source": [
    "from sklearn.model_selection import train_test_split\n",
    "X_total = data_remove_null.drop(['admitdiagnosis', 'actualicumortality', 'actualhospitalmortality', 'actualhospitallos'], axis=1)\n",
    "y_total = data_remove_null['actualicumortality']\n",
    "X_train, X_test, y_train, y_test = train_test_split(X_total, y_total, stratify=y_total, test_size=0.20, random_state=2022)"
   ]
  },
  {
   "cell_type": "code",
   "execution_count": 6,
   "metadata": {},
   "outputs": [
    {
     "data": {
      "text/plain": [
       "0    4258\n",
       "1     865\n",
       "Name: actualicumortality, dtype: int64"
      ]
     },
     "execution_count": 6,
     "metadata": {},
     "output_type": "execute_result"
    }
   ],
   "source": [
    "y_train.value_counts()"
   ]
  },
  {
   "cell_type": "markdown",
   "metadata": {},
   "source": [
    "## Create model\n",
    "* parameters Vs. hyperparameters\n",
    "> If you have to specify a model parameter manually then\n",
    "it is probably a model hyperparameter."
   ]
  },
  {
   "cell_type": "code",
   "execution_count": 7,
   "metadata": {},
   "outputs": [],
   "source": [
    "from sklearn.linear_model import LogisticRegression\n",
    "logmodel = LogisticRegression() # 여러가지 모델 사용 가능\n",
    "logmodel.fit(X_train, y_train)\n",
    "predictions = logmodel.predict(X_test)"
   ]
  },
  {
   "cell_type": "markdown",
   "metadata": {},
   "source": [
    "## Model evaluation\n",
    "* <img src=\"https://blog.kakaocdn.net/dn/NrGwq/btru0vpxoC1/SmY48iCMDYLksZNP3A9bdK/img.png\" alt=\"matrix\" width=\"300\"/>"
   ]
  },
  {
   "cell_type": "code",
   "execution_count": 8,
   "metadata": {},
   "outputs": [
    {
     "name": "stdout",
     "output_type": "stream",
     "text": [
      "              precision    recall  f1-score   support\n",
      "\n",
      "           0       0.83      1.00      0.91      1065\n",
      "           1       0.00      0.00      0.00       216\n",
      "\n",
      "    accuracy                           0.83      1281\n",
      "   macro avg       0.42      0.50      0.45      1281\n",
      "weighted avg       0.69      0.83      0.75      1281\n",
      "\n"
     ]
    },
    {
     "name": "stderr",
     "output_type": "stream",
     "text": [
      "/Users/mindongsung/work/20220329_python_lecture/.venv/lib/python3.9/site-packages/sklearn/metrics/_classification.py:1318: UndefinedMetricWarning: Precision and F-score are ill-defined and being set to 0.0 in labels with no predicted samples. Use `zero_division` parameter to control this behavior.\n",
      "  _warn_prf(average, modifier, msg_start, len(result))\n",
      "/Users/mindongsung/work/20220329_python_lecture/.venv/lib/python3.9/site-packages/sklearn/metrics/_classification.py:1318: UndefinedMetricWarning: Precision and F-score are ill-defined and being set to 0.0 in labels with no predicted samples. Use `zero_division` parameter to control this behavior.\n",
      "  _warn_prf(average, modifier, msg_start, len(result))\n",
      "/Users/mindongsung/work/20220329_python_lecture/.venv/lib/python3.9/site-packages/sklearn/metrics/_classification.py:1318: UndefinedMetricWarning: Precision and F-score are ill-defined and being set to 0.0 in labels with no predicted samples. Use `zero_division` parameter to control this behavior.\n",
      "  _warn_prf(average, modifier, msg_start, len(result))\n"
     ]
    }
   ],
   "source": [
    "from sklearn.metrics import classification_report\n",
    "print(classification_report(y_test,predictions))"
   ]
  },
  {
   "cell_type": "code",
   "execution_count": 9,
   "metadata": {},
   "outputs": [
    {
     "data": {
      "text/html": [
       "<div>\n",
       "<style scoped>\n",
       "    .dataframe tbody tr th:only-of-type {\n",
       "        vertical-align: middle;\n",
       "    }\n",
       "\n",
       "    .dataframe tbody tr th {\n",
       "        vertical-align: top;\n",
       "    }\n",
       "\n",
       "    .dataframe thead th {\n",
       "        text-align: right;\n",
       "    }\n",
       "</style>\n",
       "<table border=\"1\" class=\"dataframe\">\n",
       "  <thead>\n",
       "    <tr style=\"text-align: right;\">\n",
       "      <th></th>\n",
       "      <th>fpr</th>\n",
       "      <th>tpr</th>\n",
       "      <th>thresholds</th>\n",
       "    </tr>\n",
       "  </thead>\n",
       "  <tbody>\n",
       "    <tr>\n",
       "      <th>0</th>\n",
       "      <td>0.000000</td>\n",
       "      <td>0.000000</td>\n",
       "      <td>1.369019</td>\n",
       "    </tr>\n",
       "    <tr>\n",
       "      <th>1</th>\n",
       "      <td>0.000000</td>\n",
       "      <td>0.004630</td>\n",
       "      <td>0.369019</td>\n",
       "    </tr>\n",
       "    <tr>\n",
       "      <th>2</th>\n",
       "      <td>0.000000</td>\n",
       "      <td>0.018519</td>\n",
       "      <td>0.333259</td>\n",
       "    </tr>\n",
       "    <tr>\n",
       "      <th>3</th>\n",
       "      <td>0.000939</td>\n",
       "      <td>0.018519</td>\n",
       "      <td>0.332967</td>\n",
       "    </tr>\n",
       "    <tr>\n",
       "      <th>4</th>\n",
       "      <td>0.000939</td>\n",
       "      <td>0.027778</td>\n",
       "      <td>0.332638</td>\n",
       "    </tr>\n",
       "    <tr>\n",
       "      <th>...</th>\n",
       "      <td>...</td>\n",
       "      <td>...</td>\n",
       "      <td>...</td>\n",
       "    </tr>\n",
       "    <tr>\n",
       "      <th>341</th>\n",
       "      <td>0.997183</td>\n",
       "      <td>0.990741</td>\n",
       "      <td>0.004306</td>\n",
       "    </tr>\n",
       "    <tr>\n",
       "      <th>342</th>\n",
       "      <td>0.997183</td>\n",
       "      <td>0.995370</td>\n",
       "      <td>0.003705</td>\n",
       "    </tr>\n",
       "    <tr>\n",
       "      <th>343</th>\n",
       "      <td>0.998122</td>\n",
       "      <td>0.995370</td>\n",
       "      <td>0.003040</td>\n",
       "    </tr>\n",
       "    <tr>\n",
       "      <th>344</th>\n",
       "      <td>0.998122</td>\n",
       "      <td>1.000000</td>\n",
       "      <td>0.002293</td>\n",
       "    </tr>\n",
       "    <tr>\n",
       "      <th>345</th>\n",
       "      <td>1.000000</td>\n",
       "      <td>1.000000</td>\n",
       "      <td>0.000183</td>\n",
       "    </tr>\n",
       "  </tbody>\n",
       "</table>\n",
       "<p>346 rows × 3 columns</p>\n",
       "</div>"
      ],
      "text/plain": [
       "          fpr       tpr  thresholds\n",
       "0    0.000000  0.000000    1.369019\n",
       "1    0.000000  0.004630    0.369019\n",
       "2    0.000000  0.018519    0.333259\n",
       "3    0.000939  0.018519    0.332967\n",
       "4    0.000939  0.027778    0.332638\n",
       "..        ...       ...         ...\n",
       "341  0.997183  0.990741    0.004306\n",
       "342  0.997183  0.995370    0.003705\n",
       "343  0.998122  0.995370    0.003040\n",
       "344  0.998122  1.000000    0.002293\n",
       "345  1.000000  1.000000    0.000183\n",
       "\n",
       "[346 rows x 3 columns]"
      ]
     },
     "execution_count": 9,
     "metadata": {},
     "output_type": "execute_result"
    }
   ],
   "source": [
    "# calculate roc_curve \n",
    "from sklearn.metrics import roc_curve\n",
    "fpr, tpr, thresholds = roc_curve(y_test, logmodel.predict_proba(X_test)[:,1])\n",
    "pd.DataFrame({'fpr':fpr, 'tpr':tpr, 'thresholds':thresholds})"
   ]
  },
  {
   "cell_type": "code",
   "execution_count": 10,
   "metadata": {},
   "outputs": [
    {
     "data": {
      "image/png": "[encoded data removed]",
      "text/plain": [
       "<Figure size 432x288 with 1 Axes>"
      ]
     },
     "metadata": {
      "needs_background": "light"
     },
     "output_type": "display_data"
    }
   ],
   "source": [
    "import matplotlib.pyplot as plt\n",
    "plt.plot(fpr, tpr, 'o-', label=\"Logistic Regression\") # o for circle\n",
    "plt.plot([0, 1], [0, 1], 'k--', label=\"random guess\") # k for black\n",
    "plt.xlabel('Fall-Out')\n",
    "plt.ylabel('Recall')\n",
    "plt.title('Receiver operating characteristic')\n",
    "plt.show()"
   ]
  },
  {
   "cell_type": "code",
   "execution_count": 11,
   "metadata": {},
   "outputs": [
    {
     "data": {
      "text/plain": [
       "0.5880585985046078"
      ]
     },
     "execution_count": 11,
     "metadata": {},
     "output_type": "execute_result"
    }
   ],
   "source": [
    "from sklearn.metrics import auc\n",
    "auc(fpr, tpr)"
   ]
  },
  {
   "cell_type": "code",
   "execution_count": 12,
   "metadata": {},
   "outputs": [
    {
     "data": {
      "text/plain": [
       "array([[1065,    0],\n",
       "       [ 216,    0]])"
      ]
     },
     "execution_count": 12,
     "metadata": {},
     "output_type": "execute_result"
    }
   ],
   "source": [
    "from sklearn.metrics import confusion_matrix\n",
    "confusion_matrix(y_test, predictions)"
   ]
  }
 ],
 "metadata": {
  "interpreter": {
   "hash": "afb467b5f63526def15638577ababa572451f27f0ce252ce8306ad5c5ed4ee20"
  },
  "kernelspec": {
   "display_name": "Python 3.9.10 ('.venv': poetry)",
   "language": "python",
   "name": "python3"
  },
  "language_info": {
   "codemirror_mode": {
    "name": "ipython",
    "version": 3
   },
   "file_extension": ".py",
   "mimetype": "text/x-python",
   "name": "python",
   "nbconvert_exporter": "python",
   "pygments_lexer": "ipython3",
   "version": "3.9.7"
  },
  "orig_nbformat": 4
 },
 "nbformat": 4,
 "nbformat_minor": 2
}
