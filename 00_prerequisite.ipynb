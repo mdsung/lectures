{
 "cells": [
  {
   "cell_type": "code",
   "execution_count": null,
   "metadata": {},
   "outputs": [],
   "source": [
    "!mkdir -p data/processed\n",
    "!wget https://github.com/mdsung/20220329_python_datascience_lecture/raw/main/data/processed/aps_input.csv -P data/processed/\n",
    "!wget https://github.com/mdsung/20220329_python_datascience_lecture/raw/main/data/processed/other_input.csv -P data/processed\n",
    "!wget https://github.com/mdsung/20220329_python_datascience_lecture/raw/main/data/processed/outcomes.csv -P data/processed\n",
    "!wget https://github.com/mdsung/20220329_python_datascience_lecture/raw/main/pr_report.html -P ./\n"
   ]
  }
 ],
 "metadata": {
  "language_info": {
   "name": "python"
  },
  "orig_nbformat": 4
 },
 "nbformat": 4,
 "nbformat_minor": 2
}
